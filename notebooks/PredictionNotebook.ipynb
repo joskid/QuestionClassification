{
 "metadata": {
  "language_info": {
   "codemirror_mode": {
    "name": "ipython",
    "version": 3
   },
   "file_extension": ".py",
   "mimetype": "text/x-python",
   "name": "python",
   "nbconvert_exporter": "python",
   "pygments_lexer": "ipython3",
   "version": "3.6.9-final"
  },
  "orig_nbformat": 2,
  "kernelspec": {
   "name": "Python 3.6.9 64-bit",
   "display_name": "Python 3.6.9 64-bit",
   "metadata": {
    "interpreter": {
     "hash": "31f2aee4e71d21fbe5cf8b01ff0e069b9275f58929596ceb00d14d90e3e16cd6"
    }
   }
  }
 },
 "nbformat": 4,
 "nbformat_minor": 2,
 "cells": [
  {
   "cell_type": "code",
   "execution_count": 1,
   "metadata": {},
   "outputs": [],
   "source": [
    "import os \n",
    "import re \n",
    "import pandas as pd\n",
    "import numpy as np \n",
    "import pickle \n",
    "from tokenizers import BertWordPieceTokenizer\n",
    "import sys\n",
    "sys.path.append('../scripts/')\n",
    "from TwoClassHeadClassificationTransformer import *\n",
    "from ClassificationDatasetFromDict import *\n",
    "import pickle \n",
    "import torch \n",
    "import torch.nn as nn \n"
   ]
  },
  {
   "cell_type": "code",
   "execution_count": 28,
   "metadata": {},
   "outputs": [],
   "source": [
    "\n",
    "SEED = 3007\n",
    "torch.manual_seed(SEED)\n",
    "torch.cuda.manual_seed(SEED)\n",
    "\n",
    "global model, tokenizer, idx2class, idx2subclass, class2names, device, subclass2names\n",
    "\n",
    "device = 'cpu'\n",
    "\n",
    "def save_pickle(obj, filepath):\n",
    "    with open(filepath, 'wb') as fp:\n",
    "        pickle.dump(obj, fp)\n",
    "\n",
    "def load_pickle(filepath):\n",
    "    with open(filepath, 'rb') as fp:\n",
    "        return pickle.load(fp)        \n",
    "\n",
    "class2names = {\n",
    "    \"DESC\": \"DESCRIPTION\",\n",
    "    \"ENTY\": \"ENTITY\",\n",
    "    \"ABBR\": \"ABBREVIATION\",\n",
    "    \"HUM\": \"HUMAN\",\n",
    "    \"NUM\": \"NUMERIC\",\n",
    "    \"LOC\": \"LOCATION\"\n",
    "}\n",
    "\n",
    "subclass2names = {\n",
    "    'manner': 'manner',\n",
    "    'cremat': 'creative',\n",
    "    'animal': 'animal',\n",
    "    'exp': 'expression abbreviated',\n",
    "    'ind': 'individual',\n",
    "    'gr': 'group',\n",
    "    'title': 'title',\n",
    "    'def': 'definition',\n",
    "    'date': 'date',\n",
    "    'reason': 'reason',\n",
    "    'event': 'event',\n",
    "    'state': 'state',\n",
    "    'desc': 'description',\n",
    "    'count': 'count',\n",
    "    'letter': 'letter',\n",
    "    'religion': 'religion',\n",
    "    'food': 'food',\n",
    "    'country': 'country',\n",
    "    'color': 'color',\n",
    "    'termeq': 'term',\n",
    "    'body': 'body',\n",
    "    'dismed': 'diseases and medicine',\n",
    "    'mount': 'mountains',\n",
    "    'money': 'money',\n",
    "    'product': 'product',\n",
    "    'period': 'period',\n",
    "    'substance': 'substance',\n",
    "    'city': 'city',\n",
    "    'sport': 'sport',\n",
    "    'plant': 'plant',\n",
    "    'techmeth': 'techniques and methods',\n",
    "    'volsize': 'size, area and volume',\n",
    "    'instru': 'musical instrument',\n",
    "    'abb': 'abbreviation',\n",
    "    'speed': 'speed',\n",
    "    'word': 'word',\n",
    "    'lang': 'languages',\n",
    "    'perc': 'percentage or fractions',\n",
    "    'code': 'code (postcodes or other codes)',\n",
    "    'dist': 'distance',\n",
    "    'temp': 'temperature',\n",
    "    'symbol': 'symbol',\n",
    "    'ord': 'order or ranks',\n",
    "    'veh': 'vehicles',\n",
    "    'weight': 'weight',\n",
    "    'currency': 'currency',\n",
    "    'other': 'other'\n",
    "}\n",
    "\n",
    "\n",
    "\n",
    "idx2class = load_pickle('../data/idx2class.pkl')\n",
    "idx2subclass = load_pickle('../data/idx2subclass.pkl')\n",
    "\n",
    "tokenizer = BertWordPieceTokenizer('../data/bert-word-piece-custom-wikitext-vocab-10k-vocab.txt', lowercase = True, strip_accents = True)\n"
   ]
  },
  {
   "cell_type": "code",
   "execution_count": 29,
   "metadata": {},
   "outputs": [],
   "source": [
    "save_pickle(subclass2names, '../data/subclass2names.pkl')\n",
    "save_pickle(class2names, '../data/class2names.pkl')"
   ]
  },
  {
   "cell_type": "code",
   "execution_count": 3,
   "metadata": {},
   "outputs": [
    {
     "output_type": "stream",
     "name": "stdout",
     "text": [
      "\nModel saved at: 165\n    Accuracy Class: 0.9926846636887422\n    Accuracy Subclass: 0.9776008286398653\n\n"
     ]
    }
   ],
   "source": [
    "\n",
    "vocab_size = tokenizer.get_vocab_size()\n",
    "pad_id = 0\n",
    "CLS_label_id = 2\n",
    "num_class_heads = 2\n",
    "lst_num_cat_in_classes = [6, 47]\n",
    "seq_len = 100\n",
    "batch_size = 256\n",
    "num_workers = 3\n",
    "\n",
    "model = TwoClassHeadClassificationTransformer(\n",
    "    vocab_size=vocab_size, pad_id=pad_id, CLS_label_id=CLS_label_id,\n",
    "    num_class_heads=num_class_heads, \n",
    "    lst_num_cat_in_classes=lst_num_cat_in_classes, num_pos=seq_len\n",
    ")\n",
    "\n",
    "model_dict = torch.load('../models/classification_model_state_dict_best.pth', map_location = device)\n",
    "model.load_state_dict(model_dict['model_dict'])\n",
    "model = model.to(device)\n",
    "model = model.eval()\n",
    "\n",
    "print(f'''\n",
    "Model saved at: {model_dict['epoch']}\n",
    "    Accuracy Class: {model_dict['accuracy_class']}\n",
    "    Accuracy Subclass: {model_dict['accuracy_subclass']}\n",
    "''')\n"
   ]
  },
  {
   "cell_type": "code",
   "execution_count": 23,
   "metadata": {},
   "outputs": [],
   "source": [
    "def predictQuestionClassSubclass(text):\n",
    "\n",
    "    tokens = torch.FloatTensor(tokenizer.encode(text).ids).unsqueeze(0).to(device)\n",
    "    cls_, subcls = model(tokens)\n",
    "    clsIdx = cls_.max(1)[-1].item()\n",
    "    subclsIdx = subcls.max(1)[-1].item()\n",
    "\n",
    "    return {\n",
    "        \"class\": class2names[idx2class[clsIdx]],\n",
    "        \"subclass\": subclass2names[idx2subclass[subclsIdx]]\n",
    "    }\n",
    "\n"
   ]
  },
  {
   "cell_type": "code",
   "execution_count": 25,
   "metadata": {},
   "outputs": [
    {
     "output_type": "execute_result",
     "data": {
      "text/plain": [
       "{'class': 'DESCRIPTION', 'subclass': 'definition'}"
      ]
     },
     "metadata": {},
     "execution_count": 25
    }
   ],
   "source": [
    "predictQuestionClassSubclass('what is time?')"
   ]
  },
  {
   "cell_type": "code",
   "execution_count": 24,
   "metadata": {},
   "outputs": [
    {
     "output_type": "execute_result",
     "data": {
      "text/plain": [
       "{'class': 'HUMAN', 'subclass': 'group'}"
      ]
     },
     "metadata": {},
     "execution_count": 24
    }
   ],
   "source": [
    "predictQuestionClassSubclass('who was the first man to land on moon?')"
   ]
  },
  {
   "cell_type": "code",
   "execution_count": 27,
   "metadata": {},
   "outputs": [],
   "source": [
    "subclass2names = {\n",
    "    'manner': 'manner',\n",
    "    'cremat': 'creative',\n",
    "    'animal': 'animal',\n",
    "    'exp': 'expression abbreviated',\n",
    "    'ind': 'individual',\n",
    "    'gr': 'group',\n",
    "    'title': 'title',\n",
    "    'def': 'definition',\n",
    "    'date': 'date',\n",
    "    'reason': 'reason',\n",
    "    'event': 'event',\n",
    "    'state': 'state',\n",
    "    'desc': 'description',\n",
    "    'count': 'count',\n",
    "    'letter': 'letter',\n",
    "    'religion': 'religion',\n",
    "    'food': 'food',\n",
    "    'country': 'country',\n",
    "    'color': 'color',\n",
    "    'termeq': 'term',\n",
    "    'body': 'body',\n",
    "    'dismed': 'diseases and medicine',\n",
    "    'mount': 'mountains',\n",
    "    'money': 'money',\n",
    "    'product': 'product',\n",
    "    'period': 'period',\n",
    "    'substance': 'substance',\n",
    "    'city': 'city',\n",
    "    'sport': 'sport',\n",
    "    'plant': 'plant',\n",
    "    'techmeth': 'techniques and methods',\n",
    "    'volsize': 'size, area and volume',\n",
    "    'instru': 'musical instrument',\n",
    "    'abb': 'abbreviation',\n",
    "    'speed': 'speed',\n",
    "    'word': 'word',\n",
    "    'lang': 'languages',\n",
    "    'perc': 'percentage or fractions',\n",
    "    'code': 'code (postcodes or other codes)',\n",
    "    'dist': 'distance',\n",
    "    'temp': 'temperature',\n",
    "    'symbol': 'symbol',\n",
    "    'ord': 'order or ranks',\n",
    "    'veh': 'vehicles',\n",
    "    'weight': 'weight',\n",
    "    'currency': 'currency',\n",
    "    'other': 'other'\n",
    "}"
   ]
  },
  {
   "cell_type": "code",
   "execution_count": 26,
   "metadata": {},
   "outputs": [
    {
     "output_type": "execute_result",
     "data": {
      "text/plain": [
       "{0: 'manner',\n",
       " 1: 'cremat',\n",
       " 2: 'animal',\n",
       " 3: 'exp',\n",
       " 4: 'ind',\n",
       " 5: 'gr',\n",
       " 6: 'title',\n",
       " 7: 'def',\n",
       " 8: 'date',\n",
       " 9: 'reason',\n",
       " 10: 'event',\n",
       " 11: 'state',\n",
       " 12: 'desc',\n",
       " 13: 'count',\n",
       " 14: 'other',\n",
       " 15: 'letter',\n",
       " 16: 'religion',\n",
       " 17: 'food',\n",
       " 18: 'country',\n",
       " 19: 'color',\n",
       " 20: 'termeq',\n",
       " 21: 'body',\n",
       " 22: 'dismed',\n",
       " 23: 'mount',\n",
       " 24: 'money',\n",
       " 25: 'product',\n",
       " 26: 'period',\n",
       " 27: 'substance',\n",
       " 28: 'city',\n",
       " 29: 'sport',\n",
       " 30: 'plant',\n",
       " 31: 'techmeth',\n",
       " 32: 'volsize',\n",
       " 33: 'instru',\n",
       " 34: 'abb',\n",
       " 35: 'speed',\n",
       " 36: 'word',\n",
       " 37: 'lang',\n",
       " 38: 'perc',\n",
       " 39: 'code',\n",
       " 40: 'dist',\n",
       " 41: 'temp',\n",
       " 42: 'symbol',\n",
       " 43: 'ord',\n",
       " 44: 'veh',\n",
       " 45: 'weight',\n",
       " 46: 'currency'}"
      ]
     },
     "metadata": {},
     "execution_count": 26
    }
   ],
   "source": [
    "idx2subclass"
   ]
  },
  {
   "cell_type": "code",
   "execution_count": null,
   "metadata": {},
   "outputs": [],
   "source": []
  }
 ]
}